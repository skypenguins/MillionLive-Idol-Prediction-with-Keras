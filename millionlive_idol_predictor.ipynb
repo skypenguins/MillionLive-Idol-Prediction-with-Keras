{
  "nbformat": 4,
  "nbformat_minor": 0,
  "metadata": {
    "colab": {
      "name": "millionlive_idol_predictor.ipynb",
      "version": "0.3.2",
      "provenance": [],
      "collapsed_sections": [
        "_rzZQcomrros"
      ]
    },
    "kernelspec": {
      "name": "python3",
      "display_name": "Python 3"
    },
    "accelerator": "GPU"
  },
  "cells": [
    {
      "metadata": {
        "id": "o5rkeuD9Y8BR",
        "colab_type": "code",
        "outputId": "db26fd86-8d13-45b1-a040-476b13a8627e",
        "colab": {
          "base_uri": "https://localhost:8080/",
          "height": 34
        }
      },
      "cell_type": "code",
      "source": [
        "!cat /proc/uptime | awk '{print $1 /60 \" mins (\" $1 \"sec)\"}'"
      ],
      "execution_count": 1,
      "outputs": [
        {
          "output_type": "stream",
          "text": [
            "21.256 mins (1275.36sec)\n"
          ],
          "name": "stdout"
        }
      ]
    },
    {
      "metadata": {
        "id": "_rzZQcomrros",
        "colab_type": "text"
      },
      "cell_type": "markdown",
      "source": [
        "# Google Drive との接続"
      ]
    },
    {
      "metadata": {
        "id": "GhvNBg4VZD38",
        "colab_type": "code",
        "outputId": "6c7e2112-bc3b-44cc-a503-a4bbac78f4f5",
        "colab": {
          "base_uri": "https://localhost:8080/",
          "height": 34
        }
      },
      "cell_type": "code",
      "source": [
        "from google.colab import drive\n",
        "drive.mount('/content/drive')"
      ],
      "execution_count": 2,
      "outputs": [
        {
          "output_type": "stream",
          "text": [
            "Drive already mounted at /content/drive; to attempt to forcibly remount, call drive.mount(\"/content/drive\", force_remount=True).\n"
          ],
          "name": "stdout"
        }
      ]
    },
    {
      "metadata": {
        "id": "HNl7jOIY3SC0",
        "colab_type": "code",
        "outputId": "e1c7d938-838b-4727-d2a2-ab952bd7ff10",
        "colab": {
          "base_uri": "https://localhost:8080/",
          "height": 34
        }
      },
      "cell_type": "code",
      "source": [
        "%cd /content/drive/My Drive"
      ],
      "execution_count": 3,
      "outputs": [
        {
          "output_type": "stream",
          "text": [
            "/content/drive/My Drive\n"
          ],
          "name": "stdout"
        }
      ]
    },
    {
      "metadata": {
        "id": "tAk-EDelZ4AW",
        "colab_type": "code",
        "colab": {}
      },
      "cell_type": "code",
      "source": [
        "!ls"
      ],
      "execution_count": 0,
      "outputs": []
    },
    {
      "metadata": {
        "id": "AO_zWVzXZIqX",
        "colab_type": "code",
        "outputId": "4084e8ac-1cc2-4355-c16c-4a22ea49e58e",
        "colab": {
          "base_uri": "https://localhost:8080/",
          "height": 34
        }
      },
      "cell_type": "code",
      "source": [
        "!ls millionlive_idol_predictor/"
      ],
      "execution_count": 5,
      "outputs": [
        {
          "output_type": "stream",
          "text": [
            "millionlive_idolname.json  script_data\ttmp\n"
          ],
          "name": "stdout"
        }
      ]
    },
    {
      "metadata": {
        "id": "gFEjmSgVcYl8",
        "colab_type": "code",
        "outputId": "9ab3353e-9383-4db5-d9fc-994adcc09f79",
        "colab": {
          "base_uri": "https://localhost:8080/",
          "height": 34
        }
      },
      "cell_type": "code",
      "source": [
        "import tensorflow as tf\n",
        "tf.test.gpu_device_name()"
      ],
      "execution_count": 6,
      "outputs": [
        {
          "output_type": "execute_result",
          "data": {
            "text/plain": [
              "'/device:GPU:0'"
            ]
          },
          "metadata": {
            "tags": []
          },
          "execution_count": 6
        }
      ]
    },
    {
      "metadata": {
        "id": "fGsn9g-0ZrBQ",
        "colab_type": "code",
        "colab": {}
      },
      "cell_type": "code",
      "source": [
        "%config inlineBackend.figure_format = 'retina'"
      ],
      "execution_count": 0,
      "outputs": []
    },
    {
      "metadata": {
        "id": "pD4KHAcir0Jd",
        "colab_type": "text"
      },
      "cell_type": "markdown",
      "source": [
        "# 学習"
      ]
    },
    {
      "metadata": {
        "id": "lKS0YWOoZ-y4",
        "colab_type": "code",
        "colab": {}
      },
      "cell_type": "code",
      "source": [
        "import sys, os.path, glob\n",
        "import json\n",
        "from collections import OrderedDict\n",
        "from keras.layers import Activation, Dense, Dropout, Flatten, Conv2D, ZeroPadding2D, MaxPooling2D, Reshape, Input, concatenate\n",
        "from keras.layers.embeddings import Embedding\n",
        "from keras.layers.normalization import BatchNormalization\n",
        "from keras.utils import np_utils\n",
        "from keras.models import Model, load_model\n",
        "from keras.optimizers import Adam\n",
        "from keras.callbacks import LearningRateScheduler, Callback, CSVLogger, ModelCheckpoint\n",
        "import numpy as np\n",
        "import matplotlib.pyplot as plt"
      ],
      "execution_count": 0,
      "outputs": []
    },
    {
      "metadata": {
        "id": "_fxjYBZ7aB45",
        "colab_type": "code",
        "colab": {}
      },
      "cell_type": "code",
      "source": [
        "millionlive_dir = './millionlive_idol_predictor/'\n",
        "script_dir = millionlive_dir + 'script_data/'\n",
        "idol_meta_data_file = millionlive_dir + 'millionlive_idolname.json'\n",
        "tmp_dir = millionlive_dir + 'tmp/'"
      ],
      "execution_count": 0,
      "outputs": []
    },
    {
      "metadata": {
        "id": "ln19JnqDaepM",
        "colab_type": "code",
        "colab": {}
      },
      "cell_type": "code",
      "source": [
        "# jsonの読み込み\n",
        "def load_json(idol_meta_data_file=idol_meta_data_file):\n",
        "    with open(idol_meta_data_file, 'r') as f:\n",
        "        idol_meta_data = json.load(f, object_pairs_hook=OrderedDict) # jsonの順序を保持したままOrderdDictを生成\n",
        "        #print(idol_meta_data['idols'])\n",
        "        for idol in idol_meta_data['idols']:\n",
        "            print('{0}\\tid: {1}\\tidol_name: {2}'.format(idol['idol_id'], idol['id'], idol['idol_name']))\n",
        "    return idol_meta_data['idols']"
      ],
      "execution_count": 0,
      "outputs": []
    },
    {
      "metadata": {
        "id": "JkBF8_0Td0pn",
        "colab_type": "code",
        "colab": {}
      },
      "cell_type": "code",
      "source": [
        "# 各アイドルのセリフデータを読み込む\n",
        "def load_script(idols):\n",
        "    all_idol_script = np.empty((0,2))\n",
        "    print('Loading idol script data...')\n",
        "    for idol in idols:\n",
        "        print('Loading {}.txt...'.format(idol['idol_id']))\n",
        "        script_line = []\n",
        "        with open('{}{}.txt'.format(script_dir, idol['idol_id']), \"r\") as f:\n",
        "            for line in f:\n",
        "                script_line.append(line.strip().replace('　',''))\n",
        "        print('Finished loading.')\n",
        "        \n",
        "        np_idol_script = np.array([script_line]).T\n",
        "        np_ids = np.array([np.zeros(len(np_idol_script)) + int(idol['id'])]).astype(np.int64).T\n",
        "        idol_id_data = np.hstack((np_idol_script, np_ids))\n",
        "        print('shape: {}'.format(np.shape(idol_id_data)))\n",
        "        \n",
        "        all_idol_script = np.vstack((all_idol_script, idol_id_data))\n",
        "    print('All idol scripts has been integrated.')\n",
        "    print('shape: {}'.format(np.shape(all_idol_script)))\n",
        "    print(all_idol_script)\n",
        "    \n",
        "    return all_idol_script"
      ],
      "execution_count": 0,
      "outputs": []
    },
    {
      "metadata": {
        "id": "k1FLlzOfd9zu",
        "colab_type": "code",
        "colab": {}
      },
      "cell_type": "code",
      "source": [
        "# それぞれの行を整数のUnicodeポイントに変換する\n",
        "def encode_text(txt, max_length=130):\n",
        "    txt_list = []\n",
        "    for line in txt:\n",
        "        txt_line = [ord(x) for x in str(line).strip()]\n",
        "        # Returning the encoded text in array, just like below\n",
        "        # [25991, 31456, 12391, 12399, 12394, 12367, 12387, 12390, 23383, 24341, 12391, 12354, 12427, 12290]\n",
        "        txt_line = txt_line[:max_length] # max_length文字(デフォルト)までで打ち切り\n",
        "        txt_len = len(txt_line) # 文の長さ\n",
        "        if txt_len < max_length: # 文がmax_length文字未満なら、残りをゼロ埋め\n",
        "            txt_line += ([0] * (max_length - txt_len))\n",
        "        txt_list.append((txt_line))\n",
        "    return txt_list"
      ],
      "execution_count": 0,
      "outputs": []
    },
    {
      "metadata": {
        "id": "Fy-Mp5GpeAxa",
        "colab_type": "code",
        "colab": {}
      },
      "cell_type": "code",
      "source": [
        "def load_data():\n",
        "    idols = []\n",
        "    idols = load_json()\n",
        "    all_idol_script = load_script(idols)\n",
        "\n",
        "    # 訓練データ(入力)の作成\n",
        "    encoded_script_list = encode_text(all_idol_script[:,0]) # テキスト列をUnicodeポイントにエンコードする\n",
        "    script = np.array(encoded_script_list) # NumPy配列に変換\n",
        "\n",
        "    # 訓練ラベル(教師データ)の作成\n",
        "    id_list = all_idol_script[:,1] # id列を代入\n",
        "    label = np_utils.to_categorical(id_list) # one-hot表現に変換\n",
        "\n",
        "    return script, label"
      ],
      "execution_count": 0,
      "outputs": []
    },
    {
      "metadata": {
        "id": "0ZBilPoHeD5k",
        "colab_type": "code",
        "colab": {}
      },
      "cell_type": "code",
      "source": [
        "# Character-level Convolutional Neural Networkのモデルの定義\n",
        "def create_model(embed_size=256, max_length=130, filter_sizes=(1, 2, 3, 4, 5), filter_num=512):\n",
        "    inp = Input(shape=(max_length,))\n",
        "    #print('inp: ' + str(np.shape(inp)))\n",
        "    # Embedding層でUnicodeポイントの整数(=1文字)の1次元配列をベクトルの配列に変換する(ベクトルの配列だから、embed_size次元)\n",
        "    # ハイパーパラメータ…input_dim=入力の各要素の最大インデックス+1=0xffff=65535=漢字のだいたいの最大値？, output_dim=入力の横幅(次元数)、初期化は一様分布\n",
        "    emb = Embedding(0xffff, embed_size)(inp)\n",
        "    #print('emb: ' + str(np.shape(emb)))\n",
        "    # 畳み込み層が受け取る入力を生成する。Reshapeで軸のチャンネル数を追加\n",
        "    # Conv層が受け取る入力のshape (batch_size,) + (高さ, 横幅, チャンネル)に変形\n",
        "    emb_ex = Reshape((max_length, embed_size, 1))(emb)\n",
        "    #print('emb_ex: ' + str(np.shape(emb_ex)))\n",
        "\n",
        "    # 入力の横幅と、フィルタの横幅は一致する\n",
        "    # 同一の入力に対して、1〜5の高さの複数のフィルタを1文字ずつスライドさせて畳み込む。その後、プーリング層に流す。\n",
        "    # 1〜5文字ぶんの高さのフィルタを適用している。これは、1-gram〜5-gramを模倣している。\n",
        "    conv_0 = Conv2D(filter_num, (filter_sizes[2], embed_size), activation='relu', input_shape=(max_length, embed_size, 1))(emb_ex)\n",
        "    pad_0 = ZeroPadding2D((1,1))(conv_0)\n",
        "    conv_0_1 = Conv2D(filter_num, (filter_sizes[2], 3), activation='relu', input_shape=(max_length, embed_size, 1))(pad_0)\n",
        "    \n",
        "    conv_1 = Conv2D(filter_num, (filter_sizes[3], embed_size), activation='relu', input_shape=(max_length, embed_size, 1))(emb_ex)\n",
        "    pad_1 = ZeroPadding2D((1,1))(conv_0)\n",
        "    conv_1_1 = Conv2D(filter_num, (filter_sizes[3], 3), activation='relu', input_shape=(max_length, embed_size, 1))(pad_1)\n",
        "    \n",
        "    conv_2 = Conv2D(filter_num, (filter_sizes[4], embed_size), activation='relu', input_shape=(max_length, embed_size, 1))(emb_ex)\n",
        "    pad_2 = ZeroPadding2D((1,1))(conv_0)\n",
        "    conv_2_1 = Conv2D(filter_num, (filter_sizes[4], 3), activation='relu', input_shape=(max_length, embed_size, 1))(pad_2)\n",
        "\n",
        "    conv_3 = Conv2D(filter_num, (filter_sizes[0], embed_size), activation='relu', input_shape=(max_length, embed_size, 1))(emb_ex)\n",
        "    conv_4 = Conv2D(filter_num, (filter_sizes[1], embed_size), activation='relu', input_shape=(max_length, embed_size, 1))(emb_ex)\n",
        "    \n",
        "    pool_0 = MaxPooling2D(pool_size=(max_length - filter_sizes[2] + 1, 1))(conv_0)\n",
        "    pool_0_1 = MaxPooling2D(pool_size=(max_length - filter_sizes[2] + 1, 1))(conv_0_1)\n",
        "    pool_1 = MaxPooling2D(pool_size=(max_length - filter_sizes[3] + 1, 1))(conv_1)\n",
        "    pool_1_1 = MaxPooling2D(pool_size=(max_length - filter_sizes[3] + 0, 1))(conv_1_1)\n",
        "    pool_2 = MaxPooling2D(pool_size=(max_length - filter_sizes[4] + 1, 1))(conv_2)\n",
        "    pool_2_1 = MaxPooling2D(pool_size=(max_length - filter_sizes[4] + 0, 1))(conv_2_1)\n",
        "    pool_3= MaxPooling2D(pool_size=(max_length - filter_sizes[0] - 3, 1))(conv_3)\n",
        "    pool_4= MaxPooling2D(pool_size=(max_length - filter_sizes[1] - 2, 1))(conv_4)\n",
        "    \n",
        "    # 畳み込んだ結果を結合する。これは、複数のN-gramをまとめて利用していることと同じようになる。\n",
        "    merged_convs = concatenate([pool_0, pool_0_1, pool_1, pool_1_1, pool_2, pool_2_1, pool_3, pool_4])\n",
        "    # 結合した出力を平坦にReshapeして、全結合層に流す。\n",
        "    #reshape = Reshape((filter_num * (len(filter_sizes)),))(merged_convs)\n",
        "    reshape = Flatten()(merged_convs)\n",
        "    fc1 = Dense(128, activation='relu')(reshape)\n",
        "    bn1 = BatchNormalization()(fc1) \n",
        "    do1 = Dropout(0.3)(bn1) # 正則化(Dropout)\n",
        "    fc2 = Dense(9, activation='softmax')(do1) # 出力層(全結合層)\n",
        "    model = Model(inputs=inp, outputs=fc2)\n",
        "    # モデルの可視化\n",
        "    #plot_model(model, to_file='model.png', show_shapes=True, show_layer_names=True)\n",
        "    return model"
      ],
      "execution_count": 0,
      "outputs": []
    },
    {
      "metadata": {
        "id": "FS0HMbmreIyh",
        "colab_type": "code",
        "colab": {}
      },
      "cell_type": "code",
      "source": [
        "def plot_history(history):\n",
        "    # 精度の履歴をプロット\n",
        "    display('Model Acc')\n",
        "    plt.plot(history.history['acc'],\".-\",label=\"accuracy\")\n",
        "    plt.plot(history.history['val_acc'],\".-\",label=\"val_acc\")\n",
        "    plt.title('model accuracy')\n",
        "    plt.xlabel('epoch')\n",
        "    plt.ylabel('accuracy')\n",
        "    plt.legend(loc=\"lower right\")\n",
        "    plt.show()\n",
        "\n",
        "    # 損失の履歴をプロット\n",
        "    display('Model Loss')\n",
        "    plt.plot(history.history['loss'],\".-\",label=\"loss\",)\n",
        "    plt.plot(history.history['val_loss'],\".-\",label=\"val_loss\")\n",
        "    plt.title('model loss')\n",
        "    plt.xlabel('epoch')\n",
        "    plt.ylabel('loss')\n",
        "    plt.legend(loc='lower right')\n",
        "    plt.show()"
      ],
      "execution_count": 0,
      "outputs": []
    },
    {
      "metadata": {
        "id": "L99NKj5fePpI",
        "colab_type": "code",
        "colab": {}
      },
      "cell_type": "code",
      "source": [
        "def train(inputs, targets, batch_size=100, epoch_count=15, max_length=130, model_filepath='model.h5', learning_rate=0.001):\n",
        "    # 学習率を少しずつ下げる\n",
        "    start = learning_rate\n",
        "    stop = learning_rate * 0.01\n",
        "    learning_rates = np.linspace(start, stop, epoch_count)\n",
        "\n",
        "    model = create_model(max_length=max_length)\n",
        "    # オプティマイザはAdam\n",
        "    optimizer = Adam(lr=learning_rate)\n",
        "    #optimizer = Adam()\n",
        "    model.compile(loss='categorical_crossentropy',\n",
        "                  optimizer=optimizer,\n",
        "                  metrics=['accuracy'])\n",
        "    model.summary()\n",
        "    \n",
        "    target = os.path.join(tmp_dir, 'weights.*.hdf5')\n",
        "    files = [(f, os.path.getmtime(f)) for f in glob.glob(target)]\n",
        "    if len(files) != 0:\n",
        "        latest_saved_model = sorted(files, key=lambda files: files[1])[-1]\n",
        "        model.load_weights(latest_saved_model[0])\n",
        "    \n",
        "    # Logging file for each epoch\n",
        "    csv_logger_file = tmp_dir + 'clcnn_training.log'\n",
        "    \n",
        "    # Checkpoint model for each epoch\n",
        "    checkpoint_filepath = tmp_dir + 'weights.{epoch:02d}-{loss:.2f}-{acc:.2f}-{val_loss:.2f}-{val_acc:.2f}.hdf5'\n",
        "\n",
        "    model.fit(inputs, targets,\n",
        "              epochs=epoch_count,\n",
        "              batch_size=batch_size,\n",
        "              verbose=1,\n",
        "              validation_split=0.1,\n",
        "              shuffle=True,\n",
        "              callbacks=[\n",
        "                  LearningRateScheduler(lambda epoch: learning_rates[epoch]),\n",
        "                  CSVLogger(csv_logger_file),\n",
        "                  ModelCheckpoint(\n",
        "                      filepath=checkpoint_filepath,\n",
        "                      verbose=1,\n",
        "                      save_best_only=True,\n",
        "                      save_weights_only=False,\n",
        "                      monitor='val_loss')\n",
        "              ])\n",
        "\n",
        "    model.save(model_filepath)\n",
        "    plot_history(model.history)"
      ],
      "execution_count": 0,
      "outputs": []
    },
    {
      "metadata": {
        "id": "qVHth6kreRtK",
        "colab_type": "code",
        "colab": {}
      },
      "cell_type": "code",
      "source": [
        "def start_train():\n",
        "    Xs, Ys = load_data()\n",
        "    train(Xs, Ys)"
      ],
      "execution_count": 0,
      "outputs": []
    },
    {
      "metadata": {
        "id": "Mz2Zl-mseViK",
        "colab_type": "code",
        "outputId": "05a61119-0e86-46fb-d8cc-4e6119d9dbd0",
        "colab": {
          "base_uri": "https://localhost:8080/",
          "height": 3778
        }
      },
      "cell_type": "code",
      "source": [
        "start_train()"
      ],
      "execution_count": 79,
      "outputs": [
        {
          "output_type": "stream",
          "text": [
            "haruka\tid: 0\tidol_name: 天海春香\n",
            "chihaya\tid: 1\tidol_name: 如月千早\n",
            "yukiho\tid: 2\tidol_name: 萩原雪歩\n",
            "karen\tid: 3\tidol_name: 篠宮可憐\n",
            "emily\tid: 4\tidol_name: エミリー・スチュアート\n",
            "shiho\tid: 5\tidol_name: 北沢志保\n",
            "takane\tid: 6\tidol_name: 四条貴音\n",
            "mizuki\tid: 7\tidol_name: 真壁瑞希\n",
            "matsuri\tid: 8\tidol_name: 徳川まつり\n",
            "Loading idol script data...\n",
            "Loading haruka.txt...\n",
            "Finished loading.\n",
            "shape: (170, 2)\n",
            "Loading chihaya.txt...\n",
            "Finished loading.\n",
            "shape: (169, 2)\n",
            "Loading yukiho.txt...\n",
            "Finished loading.\n",
            "shape: (158, 2)\n",
            "Loading karen.txt...\n",
            "Finished loading.\n",
            "shape: (178, 2)\n",
            "Loading emily.txt...\n",
            "Finished loading.\n",
            "shape: (154, 2)\n",
            "Loading shiho.txt...\n",
            "Finished loading.\n",
            "shape: (184, 2)\n",
            "Loading takane.txt...\n",
            "Finished loading.\n",
            "shape: (167, 2)\n",
            "Loading mizuki.txt...\n",
            "Finished loading.\n",
            "shape: (177, 2)\n",
            "Loading matsuri.txt...\n",
            "Finished loading.\n",
            "shape: (178, 2)\n",
            "All idol scripts has been integrated.\n",
            "shape: (1535, 2)\n",
            "[['トップアイドル目指して、歌も踊りも頑張ります！よろしくお願いします♪' '0']\n",
            " ['お仕事、頑張るぞー！なーんて、えへへ…。' '0']\n",
            " ['張り切っていっちゃいましょうっ！' '0']\n",
            " ...\n",
            " ['みんな、まつりのお城にようこそなのです！わんだほー！でびゅーてぃほー！なステージをお届けするのです。楽しんでいくのですー！' '8']\n",
            " ['秋葉原、わんだほーな街で、姫、大満足です！気になっていた漫画も見つけられて…ほ？あれは、この漫画のフィギュアなのです？' '8']\n",
            " ['お祭りの夜は、女の子の晴れ舞台…甘いお菓子も花火も、貴方とだから特別なんだよ。…さあ、みんなとも一緒に楽しむのです！ね？' '8']]\n",
            "__________________________________________________________________________________________________\n",
            "Layer (type)                    Output Shape         Param #     Connected to                     \n",
            "==================================================================================================\n",
            "input_14 (InputLayer)           (None, 130)          0                                            \n",
            "__________________________________________________________________________________________________\n",
            "embedding_14 (Embedding)        (None, 130, 256)     16776960    input_14[0][0]                   \n",
            "__________________________________________________________________________________________________\n",
            "reshape_14 (Reshape)            (None, 130, 256, 1)  0           embedding_14[0][0]               \n",
            "__________________________________________________________________________________________________\n",
            "conv2d_105 (Conv2D)             (None, 128, 1, 512)  393728      reshape_14[0][0]                 \n",
            "__________________________________________________________________________________________________\n",
            "zero_padding2d_40 (ZeroPadding2 (None, 130, 3, 512)  0           conv2d_105[0][0]                 \n",
            "__________________________________________________________________________________________________\n",
            "zero_padding2d_41 (ZeroPadding2 (None, 130, 3, 512)  0           conv2d_105[0][0]                 \n",
            "__________________________________________________________________________________________________\n",
            "zero_padding2d_42 (ZeroPadding2 (None, 130, 3, 512)  0           conv2d_105[0][0]                 \n",
            "__________________________________________________________________________________________________\n",
            "conv2d_106 (Conv2D)             (None, 128, 1, 512)  2359808     zero_padding2d_40[0][0]          \n",
            "__________________________________________________________________________________________________\n",
            "conv2d_107 (Conv2D)             (None, 127, 1, 512)  524800      reshape_14[0][0]                 \n",
            "__________________________________________________________________________________________________\n",
            "conv2d_108 (Conv2D)             (None, 127, 1, 512)  3146240     zero_padding2d_41[0][0]          \n",
            "__________________________________________________________________________________________________\n",
            "conv2d_109 (Conv2D)             (None, 126, 1, 512)  655872      reshape_14[0][0]                 \n",
            "__________________________________________________________________________________________________\n",
            "conv2d_110 (Conv2D)             (None, 126, 1, 512)  3932672     zero_padding2d_42[0][0]          \n",
            "__________________________________________________________________________________________________\n",
            "conv2d_111 (Conv2D)             (None, 130, 1, 512)  131584      reshape_14[0][0]                 \n",
            "__________________________________________________________________________________________________\n",
            "conv2d_112 (Conv2D)             (None, 129, 1, 512)  262656      reshape_14[0][0]                 \n",
            "__________________________________________________________________________________________________\n",
            "max_pooling2d_105 (MaxPooling2D (None, 1, 1, 512)    0           conv2d_105[0][0]                 \n",
            "__________________________________________________________________________________________________\n",
            "max_pooling2d_106 (MaxPooling2D (None, 1, 1, 512)    0           conv2d_106[0][0]                 \n",
            "__________________________________________________________________________________________________\n",
            "max_pooling2d_107 (MaxPooling2D (None, 1, 1, 512)    0           conv2d_107[0][0]                 \n",
            "__________________________________________________________________________________________________\n",
            "max_pooling2d_108 (MaxPooling2D (None, 1, 1, 512)    0           conv2d_108[0][0]                 \n",
            "__________________________________________________________________________________________________\n",
            "max_pooling2d_109 (MaxPooling2D (None, 1, 1, 512)    0           conv2d_109[0][0]                 \n",
            "__________________________________________________________________________________________________\n",
            "max_pooling2d_110 (MaxPooling2D (None, 1, 1, 512)    0           conv2d_110[0][0]                 \n",
            "__________________________________________________________________________________________________\n",
            "max_pooling2d_111 (MaxPooling2D (None, 1, 1, 512)    0           conv2d_111[0][0]                 \n",
            "__________________________________________________________________________________________________\n",
            "max_pooling2d_112 (MaxPooling2D (None, 1, 1, 512)    0           conv2d_112[0][0]                 \n",
            "__________________________________________________________________________________________________\n",
            "concatenate_14 (Concatenate)    (None, 1, 1, 4096)   0           max_pooling2d_105[0][0]          \n",
            "                                                                 max_pooling2d_106[0][0]          \n",
            "                                                                 max_pooling2d_107[0][0]          \n",
            "                                                                 max_pooling2d_108[0][0]          \n",
            "                                                                 max_pooling2d_109[0][0]          \n",
            "                                                                 max_pooling2d_110[0][0]          \n",
            "                                                                 max_pooling2d_111[0][0]          \n",
            "                                                                 max_pooling2d_112[0][0]          \n",
            "__________________________________________________________________________________________________\n",
            "flatten_14 (Flatten)            (None, 4096)         0           concatenate_14[0][0]             \n",
            "__________________________________________________________________________________________________\n",
            "dense_27 (Dense)                (None, 128)          524416      flatten_14[0][0]                 \n",
            "__________________________________________________________________________________________________\n",
            "batch_normalization_14 (BatchNo (None, 128)          512         dense_27[0][0]                   \n",
            "__________________________________________________________________________________________________\n",
            "dropout_14 (Dropout)            (None, 128)          0           batch_normalization_14[0][0]     \n",
            "__________________________________________________________________________________________________\n",
            "dense_28 (Dense)                (None, 9)            1161        dropout_14[0][0]                 \n",
            "==================================================================================================\n",
            "Total params: 28,710,409\n",
            "Trainable params: 28,710,153\n",
            "Non-trainable params: 256\n",
            "__________________________________________________________________________________________________\n",
            "Train on 1381 samples, validate on 154 samples\n",
            "Epoch 1/15\n",
            "1381/1381 [==============================] - 21s 15ms/step - loss: 1.5147 - acc: 0.4772 - val_loss: 2.4685 - val_acc: 0.1169\n",
            "\n",
            "Epoch 00001: val_loss improved from inf to 2.46847, saving model to ./millionlive_idol_predictor/tmp/weights.01-1.51-0.48-2.47-0.12.hdf5\n",
            "Epoch 2/15\n",
            "1381/1381 [==============================] - 11s 8ms/step - loss: 0.6595 - acc: 0.8074 - val_loss: 2.4684 - val_acc: 0.1234\n",
            "\n",
            "Epoch 00002: val_loss improved from 2.46847 to 2.46838, saving model to ./millionlive_idol_predictor/tmp/weights.02-0.66-0.81-2.47-0.12.hdf5\n",
            "Epoch 3/15\n",
            "1381/1381 [==============================] - 10s 8ms/step - loss: 0.2430 - acc: 0.9652 - val_loss: 6.9214 - val_acc: 0.0000e+00\n",
            "\n",
            "Epoch 00003: val_loss did not improve from 2.46838\n",
            "Epoch 4/15\n",
            "1381/1381 [==============================] - 10s 8ms/step - loss: 0.1082 - acc: 0.9928 - val_loss: 2.2787 - val_acc: 0.2468\n",
            "\n",
            "Epoch 00004: val_loss improved from 2.46838 to 2.27873, saving model to ./millionlive_idol_predictor/tmp/weights.04-0.11-0.99-2.28-0.25.hdf5\n",
            "Epoch 5/15\n",
            "1381/1381 [==============================] - 10s 8ms/step - loss: 0.0570 - acc: 0.9964 - val_loss: 5.6041 - val_acc: 0.0000e+00\n",
            "\n",
            "Epoch 00005: val_loss did not improve from 2.27873\n",
            "Epoch 6/15\n",
            "1381/1381 [==============================] - 10s 8ms/step - loss: 0.0649 - acc: 0.9949 - val_loss: 2.1659 - val_acc: 0.2857\n",
            "\n",
            "Epoch 00006: val_loss improved from 2.27873 to 2.16594, saving model to ./millionlive_idol_predictor/tmp/weights.06-0.06-0.99-2.17-0.29.hdf5\n",
            "Epoch 7/15\n",
            "1381/1381 [==============================] - 10s 8ms/step - loss: 0.0489 - acc: 0.9935 - val_loss: 2.6083 - val_acc: 0.1948\n",
            "\n",
            "Epoch 00007: val_loss did not improve from 2.16594\n",
            "Epoch 8/15\n",
            "1381/1381 [==============================] - 10s 8ms/step - loss: 0.0302 - acc: 0.9964 - val_loss: 1.4185 - val_acc: 0.4351\n",
            "\n",
            "Epoch 00008: val_loss improved from 2.16594 to 1.41845, saving model to ./millionlive_idol_predictor/tmp/weights.08-0.03-1.00-1.42-0.44.hdf5\n",
            "Epoch 9/15\n",
            "1381/1381 [==============================] - 10s 8ms/step - loss: 0.0289 - acc: 0.9957 - val_loss: 0.5187 - val_acc: 0.8506\n",
            "\n",
            "Epoch 00009: val_loss improved from 1.41845 to 0.51870, saving model to ./millionlive_idol_predictor/tmp/weights.09-0.03-1.00-0.52-0.85.hdf5\n",
            "Epoch 10/15\n",
            "1381/1381 [==============================] - 10s 8ms/step - loss: 0.0434 - acc: 0.9949 - val_loss: 0.8778 - val_acc: 0.7273\n",
            "\n",
            "Epoch 00010: val_loss did not improve from 0.51870\n",
            "Epoch 11/15\n",
            "1381/1381 [==============================] - 10s 8ms/step - loss: 0.0300 - acc: 0.9964 - val_loss: 1.3296 - val_acc: 0.5260\n",
            "\n",
            "Epoch 00011: val_loss did not improve from 0.51870\n",
            "Epoch 12/15\n",
            "1381/1381 [==============================] - 10s 8ms/step - loss: 0.0273 - acc: 0.9949 - val_loss: 0.8133 - val_acc: 0.7597\n",
            "\n",
            "Epoch 00012: val_loss did not improve from 0.51870\n",
            "Epoch 13/15\n",
            "1381/1381 [==============================] - 10s 8ms/step - loss: 0.0212 - acc: 0.9964 - val_loss: 0.7348 - val_acc: 0.7922\n",
            "\n",
            "Epoch 00013: val_loss did not improve from 0.51870\n",
            "Epoch 14/15\n",
            "1381/1381 [==============================] - 10s 8ms/step - loss: 0.0248 - acc: 0.9949 - val_loss: 0.5046 - val_acc: 0.8896\n",
            "\n",
            "Epoch 00014: val_loss improved from 0.51870 to 0.50455, saving model to ./millionlive_idol_predictor/tmp/weights.14-0.02-0.99-0.50-0.89.hdf5\n",
            "Epoch 15/15\n",
            "1381/1381 [==============================] - 10s 8ms/step - loss: 0.0181 - acc: 0.9971 - val_loss: 0.5035 - val_acc: 0.8766\n",
            "\n",
            "Epoch 00015: val_loss improved from 0.50455 to 0.50354, saving model to ./millionlive_idol_predictor/tmp/weights.15-0.02-1.00-0.50-0.88.hdf5\n"
          ],
          "name": "stdout"
        },
        {
          "output_type": "display_data",
          "data": {
            "text/plain": [
              "'Model Acc'"
            ]
          },
          "metadata": {
            "tags": []
          }
        },
        {
          "output_type": "display_data",
          "data": {
            "image/png": "[encoded data removed]",
            "text/plain": [
              "<Figure size 576x396 with 1 Axes>"
            ]
          },
          "metadata": {
            "tags": []
          }
        },
        {
          "output_type": "display_data",
          "data": {
            "text/plain": [
              "'Model Loss'"
            ]
          },
          "metadata": {
            "tags": []
          }
        },
        {
          "output_type": "display_data",
          "data": {
            "image/png": "[encoded data removed]",
            "text/plain": [
              "<Figure size 576x396 with 1 Axes>"
            ]
          },
          "metadata": {
            "tags": []
          }
        }
      ]
    },
    {
      "metadata": {
        "id": "kfVAWbrUrX8x",
        "colab_type": "text"
      },
      "cell_type": "markdown",
      "source": [
        "# 推論"
      ]
    },
    {
      "metadata": {
        "id": "sg44cWKIoiKA",
        "colab_type": "code",
        "colab": {}
      },
      "cell_type": "code",
      "source": [
        "def encode_pred_text(raw_txt, max_length=130):\n",
        "    txt = [ord(x) for x in str(raw_txt).strip().replace('　','')]\n",
        "    txt = txt[:max_length]\n",
        "    if len(txt) < max_length:\n",
        "        txt += ([0] * (max_length - len(txt)))\n",
        "    return txt"
      ],
      "execution_count": 0,
      "outputs": []
    },
    {
      "metadata": {
        "id": "cgY21bT3osNG",
        "colab_type": "code",
        "outputId": "ffffdf58-fdd9-426c-e1b0-55ba87d3e38a",
        "colab": {
          "base_uri": "https://localhost:8080/",
          "height": 170
        }
      },
      "cell_type": "code",
      "source": [
        "idols = load_json()\n",
        "model = load_model('model.h5')"
      ],
      "execution_count": 81,
      "outputs": [
        {
          "output_type": "stream",
          "text": [
            "haruka\tid: 0\tidol_name: 天海春香\n",
            "chihaya\tid: 1\tidol_name: 如月千早\n",
            "yukiho\tid: 2\tidol_name: 萩原雪歩\n",
            "karen\tid: 3\tidol_name: 篠宮可憐\n",
            "emily\tid: 4\tidol_name: エミリー・スチュアート\n",
            "shiho\tid: 5\tidol_name: 北沢志保\n",
            "takane\tid: 6\tidol_name: 四条貴音\n",
            "mizuki\tid: 7\tidol_name: 真壁瑞希\n",
            "matsuri\tid: 8\tidol_name: 徳川まつり\n"
          ],
          "name": "stdout"
        }
      ]
    },
    {
      "metadata": {
        "id": "R7_EgclOqwZg",
        "colab_type": "code",
        "outputId": "9c3bfb54-8992-43cd-8682-5c5706346dfe",
        "colab": {
          "base_uri": "https://localhost:8080/",
          "height": 187
        }
      },
      "cell_type": "code",
      "source": [
        "_txt = encode_pred_text(input())\n",
        "result = model.predict(np.array([_txt]))\n",
        "predict_results = result[0,:]\n",
        "sorted_results = sorted([(i,e) for i,e in enumerate(list(predict_results))], key=lambda x:x[1]*-1)\n",
        "#print(sorted_results)\n",
        "for result in sorted_results:\n",
        "    id, prob = result\n",
        "    if float(prob)*100 == 0: \n",
        "      prob += .01\n",
        "    print('{}\\t: {}%'.format(idols[id]['idol_name'], round(float(prob)*100, 2)))"
      ],
      "execution_count": 82,
      "outputs": [
        {
          "output_type": "stream",
          "text": [
            "ラテは…エスプレッソ…あの、どんな味なんですか？\n",
            "北沢志保\t: 80.4%\n",
            "篠宮可憐\t: 10.12%\n",
            "如月千早\t: 4.1%\n",
            "徳川まつり\t: 2.31%\n",
            "エミリー・スチュアート\t: 1.21%\n",
            "天海春香\t: 0.8%\n",
            "萩原雪歩\t: 0.61%\n",
            "真壁瑞希\t: 0.32%\n",
            "四条貴音\t: 0.12%\n"
          ],
          "name": "stdout"
        }
      ]
    }
  ]
}