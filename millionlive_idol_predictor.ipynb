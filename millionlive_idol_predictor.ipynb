{
  "nbformat": 4,
  "nbformat_minor": 0,
  "metadata": {
    "colab": {
      "name": "millionlive_idol_predictor.ipynb",
      "version": "0.3.2",
      "provenance": [],
      "collapsed_sections": []
    },
    "kernelspec": {
      "name": "python3",
      "display_name": "Python 3"
    },
    "accelerator": "GPU"
  },
  "cells": [
    {
      "metadata": {
        "id": "o5rkeuD9Y8BR",
        "colab_type": "code",
        "colab": {
          "base_uri": "https://localhost:8080/",
          "height": 34
        },
        "outputId": "59dfc673-d47e-427f-e5f4-dcad4a3d48ad"
      },
      "cell_type": "code",
      "source": [
        "!cat /proc/uptime | awk '{print $1 /60 \" mins (\" $1 \"sec)\"}'"
      ],
      "execution_count": 1,
      "outputs": [
        {
          "output_type": "stream",
          "text": [
            "11.699 mins (701.94sec)\r\n"
          ],
          "name": "stdout"
        }
      ]
    },
    {
      "metadata": {
        "id": "_rzZQcomrros",
        "colab_type": "text"
      },
      "cell_type": "markdown",
      "source": [
        "# Google Drive との接続"
      ]
    },
    {
      "metadata": {
        "id": "-saAA5OsY-F0",
        "colab_type": "code",
        "colab": {}
      },
      "cell_type": "code",
      "source": [
        "# google-drive-ocamlfuseのインストール\n",
        "!apt install -y -qq software-properties-common python-software-properties module-init-tools\n",
        "!add-apt-repository -y ppa:alessandro-strada/ppa 2>&1 > /dev/null\n",
        "!apt-get update -qq 2>&1 > /dev/null\n",
        "!apt -y install -qq google-drive-ocamlfuse fuse"
      ],
      "execution_count": 0,
      "outputs": []
    },
    {
      "metadata": {
        "id": "GZXc1RrgZAL2",
        "colab_type": "code",
        "colab": {}
      },
      "cell_type": "code",
      "source": [
        "# Colab用のAuth token作成\n",
        "from google.colab import auth\n",
        "auth.authenticate_user()"
      ],
      "execution_count": 0,
      "outputs": []
    },
    {
      "metadata": {
        "id": "CndvDUrDZB0P",
        "colab_type": "code",
        "colab": {}
      },
      "cell_type": "code",
      "source": [
        "# Drive FUSE library用のcredential生成\n",
        "from oauth2client.client import GoogleCredentials\n",
        "creds = GoogleCredentials.get_application_default()\n",
        "import getpass\n",
        "!google-drive-ocamlfuse -headless -id={creds.client_id} -secret={creds.client_secret} < /dev/null 2>&1 | grep URL\n",
        "vcode = getpass.getpass()\n",
        "!echo {vcode} | google-drive-ocamlfuse -headless -id={creds.client_id} -secret={creds.client_secret}"
      ],
      "execution_count": 0,
      "outputs": []
    },
    {
      "metadata": {
        "id": "GhvNBg4VZD38",
        "colab_type": "code",
        "colab": {}
      },
      "cell_type": "code",
      "source": [
        "# drive/ を作り、そこにGoogle Driveをマウントする\n",
        "!mkdir -p drive\n",
        "!google-drive-ocamlfuse drive"
      ],
      "execution_count": 0,
      "outputs": []
    },
    {
      "metadata": {
        "id": "AO_zWVzXZIqX",
        "colab_type": "code",
        "colab": {
          "base_uri": "https://localhost:8080/",
          "height": 34
        },
        "outputId": "310c347c-4ae8-4146-ef1b-8b2a2931650d"
      },
      "cell_type": "code",
      "source": [
        "!ls drive/millionlive_idol_predictor/"
      ],
      "execution_count": 6,
      "outputs": [
        {
          "output_type": "stream",
          "text": [
            "millionlive_idolname.json  script_data\ttmp\r\n"
          ],
          "name": "stdout"
        }
      ]
    },
    {
      "metadata": {
        "id": "HNl7jOIY3SC0",
        "colab_type": "code",
        "colab": {
          "base_uri": "https://localhost:8080/",
          "height": 34
        },
        "outputId": "677f5a9b-308d-41b0-b414-3081e5d100ed"
      },
      "cell_type": "code",
      "source": [
        "%cd drive"
      ],
      "execution_count": 7,
      "outputs": [
        {
          "output_type": "stream",
          "text": [
            "/content/drive\n"
          ],
          "name": "stdout"
        }
      ]
    },
    {
      "metadata": {
        "id": "tAk-EDelZ4AW",
        "colab_type": "code",
        "colab": {
          "base_uri": "https://localhost:8080/",
          "height": 34
        },
        "outputId": "a8d86d20-ba1c-4948-8b89-433c7cadf24b"
      },
      "cell_type": "code",
      "source": [
        "!ls"
      ],
      "execution_count": 8,
      "outputs": [
        {
          "output_type": "stream",
          "text": [
            "Colab Notebooks  millionlive_idol_predictor\r\n"
          ],
          "name": "stdout"
        }
      ]
    },
    {
      "metadata": {
        "id": "gFEjmSgVcYl8",
        "colab_type": "code",
        "colab": {
          "base_uri": "https://localhost:8080/",
          "height": 34
        },
        "outputId": "54adce0f-f36b-467a-ab00-e6d65a73e3a4"
      },
      "cell_type": "code",
      "source": [
        "import tensorflow as tf\n",
        "tf.test.gpu_device_name()"
      ],
      "execution_count": 9,
      "outputs": [
        {
          "output_type": "execute_result",
          "data": {
            "text/plain": [
              "'/device:GPU:0'"
            ]
          },
          "metadata": {
            "tags": []
          },
          "execution_count": 9
        }
      ]
    },
    {
      "metadata": {
        "id": "fGsn9g-0ZrBQ",
        "colab_type": "code",
        "colab": {}
      },
      "cell_type": "code",
      "source": [
        "%config inlineBackend.figure_format = 'retina'"
      ],
      "execution_count": 0,
      "outputs": []
    },
    {
      "metadata": {
        "id": "pD4KHAcir0Jd",
        "colab_type": "text"
      },
      "cell_type": "markdown",
      "source": [
        "# 学習"
      ]
    },
    {
      "metadata": {
        "id": "lKS0YWOoZ-y4",
        "colab_type": "code",
        "colab": {}
      },
      "cell_type": "code",
      "source": [
        "import sys, os.path, glob\n",
        "import json\n",
        "from collections import OrderedDict\n",
        "from keras.layers import Activation, Dense, Dropout, Flatten, Conv2D, ZeroPadding2D, MaxPooling2D, Reshape, Input, concatenate\n",
        "from keras.layers.embeddings import Embedding\n",
        "from keras.layers.normalization import BatchNormalization\n",
        "from keras.utils import np_utils\n",
        "from keras.models import Model, load_model\n",
        "from keras.optimizers import Adam\n",
        "from keras.callbacks import LearningRateScheduler, Callback, CSVLogger, ModelCheckpoint\n",
        "import numpy as np\n",
        "import matplotlib.pyplot as plt"
      ],
      "execution_count": 0,
      "outputs": []
    },
    {
      "metadata": {
        "id": "_fxjYBZ7aB45",
        "colab_type": "code",
        "colab": {}
      },
      "cell_type": "code",
      "source": [
        "millionlive_dir = './millionlive_idol_predictor/'\n",
        "script_dir = millionlive_dir + 'script_data/'\n",
        "idol_meta_data_file = millionlive_dir + 'millionlive_idolname.json'\n",
        "tmp_dir = millionlive_dir + 'tmp/'"
      ],
      "execution_count": 0,
      "outputs": []
    },
    {
      "metadata": {
        "id": "ln19JnqDaepM",
        "colab_type": "code",
        "colab": {}
      },
      "cell_type": "code",
      "source": [
        "# jsonの読み込み\n",
        "def load_json(idol_meta_data_file=idol_meta_data_file):\n",
        "    with open(idol_meta_data_file, 'r') as f:\n",
        "        idol_meta_data = json.load(f, object_pairs_hook=OrderedDict) # jsonの順序を保持したままOrderdDictを生成\n",
        "        #print(idol_meta_data['idols'])\n",
        "        for idol in idol_meta_data['idols']:\n",
        "            print('{0}\\tid: {1}\\tidol_name: {2}'.format(idol['idol_id'], idol['id'], idol['idol_name']))\n",
        "    return idol_meta_data['idols']"
      ],
      "execution_count": 0,
      "outputs": []
    },
    {
      "metadata": {
        "id": "JkBF8_0Td0pn",
        "colab_type": "code",
        "colab": {}
      },
      "cell_type": "code",
      "source": [
        "# 各アイドルのセリフデータを読み込む\n",
        "def load_script(idols):\n",
        "    all_idol_script = np.empty((0,2))\n",
        "    print('Loading idol script data...')\n",
        "    for idol in idols:\n",
        "        print('Loading {}.txt...'.format(idol['idol_id']))\n",
        "        script_line = []\n",
        "        with open('{}{}.txt'.format(script_dir, idol['idol_id']), \"r\") as f:\n",
        "            for line in f:\n",
        "                script_line.append(line.strip().replace('　',''))\n",
        "        print('Finished loading.')\n",
        "        \n",
        "        np_idol_script = np.array([script_line]).T\n",
        "        np_ids = np.array([np.zeros(len(np_idol_script)) + int(idol['id'])]).astype(np.int64).T\n",
        "        idol_id_data = np.hstack((np_idol_script, np_ids))\n",
        "        print('shape: {}'.format(np.shape(idol_id_data)))\n",
        "        \n",
        "        all_idol_script = np.vstack((all_idol_script, idol_id_data))\n",
        "    print('All idol scripts has been integrated.')\n",
        "    print('shape: {}'.format(np.shape(all_idol_script)))\n",
        "    print(all_idol_script)\n",
        "    \n",
        "    return all_idol_script"
      ],
      "execution_count": 0,
      "outputs": []
    },
    {
      "metadata": {
        "id": "k1FLlzOfd9zu",
        "colab_type": "code",
        "colab": {}
      },
      "cell_type": "code",
      "source": [
        "# それぞれの行を整数のUnicodeポイントに変換する\n",
        "def encode_text(txt, max_length=200):\n",
        "    txt_list = []\n",
        "    for line in txt:\n",
        "        txt_line = [ord(x) for x in str(line).strip()]\n",
        "        # Returning the encoded text in array, just like below\n",
        "        # [25991, 31456, 12391, 12399, 12394, 12367, 12387, 12390, 23383, 24341, 12391, 12354, 12427, 12290]\n",
        "        txt_line = txt_line[:max_length] # 200文字(デフォルト)までで打ち切り\n",
        "        txt_len = len(txt_line) # 文の長さ\n",
        "        if txt_len < max_length: # 文が200文字未満なら、残りをゼロ埋め\n",
        "            txt_line += ([0] * (max_length - txt_len))\n",
        "        txt_list.append((txt_line))\n",
        "    return txt_list"
      ],
      "execution_count": 0,
      "outputs": []
    },
    {
      "metadata": {
        "id": "Fy-Mp5GpeAxa",
        "colab_type": "code",
        "colab": {}
      },
      "cell_type": "code",
      "source": [
        "def load_data():\n",
        "    idols = []\n",
        "    idols = load_json()\n",
        "    all_idol_script = load_script(idols)\n",
        "\n",
        "    # 訓練データ(入力)の作成\n",
        "    encoded_script_list = encode_text(all_idol_script[:,0]) # テキスト列をUnicodeポイントにエンコードする\n",
        "    script = np.array(encoded_script_list) # NumPy配列に変換\n",
        "\n",
        "    # 訓練ラベル(教師データ)の作成\n",
        "    id_list = all_idol_script[:,1] # id列を代入\n",
        "    label = np_utils.to_categorical(id_list) # one-hot表現に変換\n",
        "\n",
        "    return script, label"
      ],
      "execution_count": 0,
      "outputs": []
    },
    {
      "metadata": {
        "id": "0ZBilPoHeD5k",
        "colab_type": "code",
        "colab": {}
      },
      "cell_type": "code",
      "source": [
        "# Character-level Convolutional Neural Networkのモデルの定義\n",
        "def create_model(embed_size=256, max_length=200, filter_sizes=(1, 2, 3, 4, 5), filter_num=512):\n",
        "    inp = Input(shape=(max_length,))\n",
        "    #print('inp: ' + str(np.shape(inp)))\n",
        "    # Embedding層でUnicodeポイントの整数(=1文字)の1次元配列をベクトルの配列に変換する(ベクトルの配列だから、embed_size次元)\n",
        "    # ハイパーパラメータ…input_dim=入力の各要素の最大インデックス+1=0xffff=65535=漢字のだいたいの最大値？, output_dim=入力の横幅(次元数)、初期化は一様分布\n",
        "    emb = Embedding(0xffff, embed_size)(inp)\n",
        "    #print('emb: ' + str(np.shape(emb)))\n",
        "    # 畳み込み層が受け取る入力を生成する。Reshapeで軸のチャンネル数を追加\n",
        "    # Conv層が受け取る入力のshape (batch_size,) + (高さ, 横幅, チャンネル)に変形\n",
        "    emb_ex = Reshape((max_length, embed_size, 1))(emb)\n",
        "    #print('emb_ex: ' + str(np.shape(emb_ex)))\n",
        "\n",
        "    # 入力の横幅と、フィルタの横幅は一致する\n",
        "    # 同一の入力に対して、1〜5の高さの複数のフィルタを1文字ずつスライドさせて畳み込む。その後、プーリング層に流す。\n",
        "    # 1〜5文字ぶんの高さのフィルタを適用している。これは、1-gram〜5-gramを模倣している。\n",
        "    conv_0 = Conv2D(filter_num, (filter_sizes[2], embed_size), activation='relu', input_shape=(max_length, embed_size, 1))(emb_ex)\n",
        "    pad_0 = ZeroPadding2D((1,1))(conv_0)\n",
        "    conv_0_1 = Conv2D(filter_num, (filter_sizes[2], 3), activation='relu', input_shape=(max_length, embed_size, 1))(pad_0)\n",
        "    \n",
        "    conv_1 = Conv2D(filter_num, (filter_sizes[3], embed_size), activation='relu', input_shape=(max_length, embed_size, 1))(emb_ex)\n",
        "    pad_1 = ZeroPadding2D((1,1))(conv_0)\n",
        "    conv_1_1 = Conv2D(filter_num, (filter_sizes[3], 3), activation='relu', input_shape=(max_length, embed_size, 1))(pad_1)\n",
        "    \n",
        "    conv_2 = Conv2D(filter_num, (filter_sizes[4], embed_size), activation='relu', input_shape=(max_length, embed_size, 1))(emb_ex)\n",
        "    pad_2 = ZeroPadding2D((1,1))(conv_0)\n",
        "    conv_2_1 = Conv2D(filter_num, (filter_sizes[4], 3), activation='relu', input_shape=(max_length, embed_size, 1))(pad_2)\n",
        "\n",
        "    conv_3 = Conv2D(filter_num, (filter_sizes[0], embed_size), activation='relu', input_shape=(max_length, embed_size, 1))(emb_ex)\n",
        "    conv_4 = Conv2D(filter_num, (filter_sizes[1], embed_size), activation='relu', input_shape=(max_length, embed_size, 1))(emb_ex)\n",
        "    \n",
        "    pool_0 = MaxPooling2D(pool_size=(max_length - filter_sizes[2] + 1, 1))(conv_0)\n",
        "    pool_0_1 = MaxPooling2D(pool_size=(max_length - filter_sizes[2] + 1, 1))(conv_0_1)\n",
        "    pool_1 = MaxPooling2D(pool_size=(max_length - filter_sizes[3] + 1, 1))(conv_1)\n",
        "    pool_1_1 = MaxPooling2D(pool_size=(max_length - filter_sizes[3] + 0, 1))(conv_1_1)\n",
        "    pool_2 = MaxPooling2D(pool_size=(max_length - filter_sizes[4] + 1, 1))(conv_2)\n",
        "    pool_2_1 = MaxPooling2D(pool_size=(max_length - filter_sizes[4] + 0, 1))(conv_2_1)\n",
        "    pool_3= MaxPooling2D(pool_size=(max_length - filter_sizes[0] - 3, 1))(conv_3)\n",
        "    pool_4= MaxPooling2D(pool_size=(max_length - filter_sizes[1] - 2, 1))(conv_4)\n",
        "    \n",
        "    # 畳み込んだ結果を結合する。これは、複数のN-gramをまとめて利用していることと同じようになる。\n",
        "    merged_convs = concatenate([pool_0, pool_0_1, pool_1, pool_1_1, pool_2, pool_2_1, pool_3, pool_4])\n",
        "    # 結合した出力を平坦にReshapeして、全結合層に流す。\n",
        "    #reshape = Reshape((filter_num * (len(filter_sizes)),))(merged_convs)\n",
        "    reshape = Flatten()(merged_convs)\n",
        "    fc1 = Dense(64, activation='relu')(reshape)\n",
        "    bn1 = BatchNormalization()(fc1) \n",
        "    do1 = Dropout(0.3)(bn1) # 正則化(Dropout)\n",
        "    fc2 = Dense(7, activation='softmax')(do1) # 出力層(全結合層)\n",
        "    model = Model(inputs=inp, outputs=fc2)\n",
        "    # モデルの可視化\n",
        "    #plot_model(model, to_file='model.png', show_shapes=True, show_layer_names=True)\n",
        "    return model"
      ],
      "execution_count": 0,
      "outputs": []
    },
    {
      "metadata": {
        "id": "FS0HMbmreIyh",
        "colab_type": "code",
        "colab": {}
      },
      "cell_type": "code",
      "source": [
        "def plot_history(history):\n",
        "    # 精度の履歴をプロット\n",
        "    display('Model Acc')\n",
        "    plt.plot(history.history['acc'],\".-\",label=\"accuracy\")\n",
        "    plt.plot(history.history['val_acc'],\".-\",label=\"val_acc\")\n",
        "    plt.title('model accuracy')\n",
        "    plt.xlabel('epoch')\n",
        "    plt.ylabel('accuracy')\n",
        "    plt.legend(loc=\"lower right\")\n",
        "    plt.show()\n",
        "\n",
        "    # 損失の履歴をプロット\n",
        "    display('Model Loss')\n",
        "    plt.plot(history.history['loss'],\".-\",label=\"loss\",)\n",
        "    plt.plot(history.history['val_loss'],\".-\",label=\"val_loss\")\n",
        "    plt.title('model loss')\n",
        "    plt.xlabel('epoch')\n",
        "    plt.ylabel('loss')\n",
        "    plt.legend(loc='lower right')\n",
        "    plt.show()"
      ],
      "execution_count": 0,
      "outputs": []
    },
    {
      "metadata": {
        "id": "L99NKj5fePpI",
        "colab_type": "code",
        "colab": {}
      },
      "cell_type": "code",
      "source": [
        "def train(inputs, targets, batch_size=100, epoch_count=15, max_length=200, model_filepath='model.h5', learning_rate=0.001):\n",
        "    # 学習率を少しずつ下げる\n",
        "    start = learning_rate\n",
        "    stop = learning_rate * 0.01\n",
        "    learning_rates = np.linspace(start, stop, epoch_count)\n",
        "\n",
        "    model = create_model(max_length=max_length)\n",
        "    # オプティマイザはAdam\n",
        "    optimizer = Adam(lr=learning_rate)\n",
        "    #optimizer = Adam()\n",
        "    model.compile(loss='categorical_crossentropy',\n",
        "                  optimizer=optimizer,\n",
        "                  metrics=['accuracy'])\n",
        "    model.summary()\n",
        "    \n",
        "    target = os.path.join(tmp_dir, 'weights.*.hdf5')\n",
        "    files = [(f, os.path.getmtime(f)) for f in glob.glob(target)]\n",
        "    if len(files) != 0:\n",
        "        latest_saved_model = sorted(files, key=lambda files: files[1])[-1]\n",
        "        model.load_weights(latest_saved_model[0])\n",
        "    \n",
        "    # Logging file for each epoch\n",
        "    csv_logger_file = tmp_dir + 'clcnn_training.log'\n",
        "    \n",
        "    # Checkpoint model for each epoch\n",
        "    checkpoint_filepath = tmp_dir + 'weights.{epoch:02d}-{loss:.2f}-{acc:.2f}-{val_loss:.2f}-{val_acc:.2f}.hdf5'\n",
        "\n",
        "    model.fit(inputs, targets,\n",
        "              epochs=epoch_count,\n",
        "              batch_size=batch_size,\n",
        "              verbose=1,\n",
        "              validation_split=0.1,\n",
        "              shuffle=True,\n",
        "              callbacks=[\n",
        "                  LearningRateScheduler(lambda epoch: learning_rates[epoch]),\n",
        "                  CSVLogger(csv_logger_file),\n",
        "                  ModelCheckpoint(\n",
        "                      filepath=checkpoint_filepath,\n",
        "                      verbose=1,\n",
        "                      save_best_only=True,\n",
        "                      save_weights_only=False,\n",
        "                      monitor='val_acc')\n",
        "              ])\n",
        "\n",
        "    model.save(model_filepath)\n",
        "    plot_history(model.history)"
      ],
      "execution_count": 0,
      "outputs": []
    },
    {
      "metadata": {
        "id": "qVHth6kreRtK",
        "colab_type": "code",
        "colab": {}
      },
      "cell_type": "code",
      "source": [
        "def start_train():\n",
        "    Xs, Ys = load_data()\n",
        "    train(Xs, Ys)"
      ],
      "execution_count": 0,
      "outputs": []
    },
    {
      "metadata": {
        "id": "Mz2Zl-mseViK",
        "colab_type": "code",
        "colab": {
          "base_uri": "https://localhost:8080/",
          "height": 3642
        },
        "outputId": "77dd0184-4565-4d57-f89c-c460928cc827"
      },
      "cell_type": "code",
      "source": [
        "start_train()"
      ],
      "execution_count": 76,
      "outputs": [
        {
          "output_type": "stream",
          "text": [
            "karen\tid: 0\tidol_name: 篠宮可憐\n",
            "emily\tid: 1\tidol_name: エミリー・スチュアート\n",
            "shiho\tid: 2\tidol_name: 北沢志保\n",
            "mizuki\tid: 3\tidol_name: 真壁瑞希\n",
            "matsuri\tid: 4\tidol_name: 徳川まつり\n",
            "nao\tid: 5\tidol_name: 横山奈緒\n",
            "serika\tid: 6\tidol_name: 箱崎星梨花\n",
            "Loading idol script data...\n",
            "Loading karen.txt...\n",
            "Finished loading.\n",
            "shape: (178, 2)\n",
            "Loading emily.txt...\n",
            "Finished loading.\n",
            "shape: (154, 2)\n",
            "Loading shiho.txt...\n",
            "Finished loading.\n",
            "shape: (184, 2)\n",
            "Loading mizuki.txt...\n",
            "Finished loading.\n",
            "shape: (177, 2)\n",
            "Loading matsuri.txt...\n",
            "Finished loading.\n",
            "shape: (178, 2)\n",
            "Loading nao.txt...\n",
            "Finished loading.\n",
            "shape: (174, 2)\n",
            "Loading serika.txt...\n",
            "Finished loading.\n",
            "shape: (180, 2)\n",
            "All idol scripts has been integrated.\n",
            "shape: (1225, 2)\n",
            "[['あの、その…私、派手に見えるかもしれませんが、そうじゃなくて、その……' '0']\n",
            " ['で、出番が無いときは、柱の陰から見守ってます…。' '0']\n",
            " ['たまにはハキハキ発言します！き、今日は無理ですが…。' '0']\n",
            " ...\n",
            " ['ぷはー！…本当です、すっごく美味しいです！このポーズで牛乳を飲むと、一番美味しいって…さすが亜美さんです♪勉強になりました！' '6']\n",
            " ['プロデューサーさん、はやくはやく！今日はわたしとジュニオールと、いっぱい遊んでくれるって約束ですよ♪みんなで、かけっこで競走です！' '6']\n",
            " ['応援、ありがとうございます！とっても、うれしいです。みなさんに、よろこんでもらえるように…わたし、一生懸命歌いますね♪' '6']]\n",
            "__________________________________________________________________________________________________\n",
            "Layer (type)                    Output Shape         Param #     Connected to                     \n",
            "==================================================================================================\n",
            "input_10 (InputLayer)           (None, 200)          0                                            \n",
            "__________________________________________________________________________________________________\n",
            "embedding_10 (Embedding)        (None, 200, 256)     16776960    input_10[0][0]                   \n",
            "__________________________________________________________________________________________________\n",
            "reshape_10 (Reshape)            (None, 200, 256, 1)  0           embedding_10[0][0]               \n",
            "__________________________________________________________________________________________________\n",
            "conv2d_52 (Conv2D)              (None, 198, 1, 512)  393728      reshape_10[0][0]                 \n",
            "__________________________________________________________________________________________________\n",
            "zero_padding2d_19 (ZeroPadding2 (None, 200, 3, 512)  0           conv2d_52[0][0]                  \n",
            "__________________________________________________________________________________________________\n",
            "zero_padding2d_20 (ZeroPadding2 (None, 200, 3, 512)  0           conv2d_52[0][0]                  \n",
            "__________________________________________________________________________________________________\n",
            "zero_padding2d_21 (ZeroPadding2 (None, 200, 3, 512)  0           conv2d_52[0][0]                  \n",
            "__________________________________________________________________________________________________\n",
            "conv2d_53 (Conv2D)              (None, 198, 1, 512)  2359808     zero_padding2d_19[0][0]          \n",
            "__________________________________________________________________________________________________\n",
            "conv2d_54 (Conv2D)              (None, 197, 1, 512)  524800      reshape_10[0][0]                 \n",
            "__________________________________________________________________________________________________\n",
            "conv2d_55 (Conv2D)              (None, 197, 1, 512)  3146240     zero_padding2d_20[0][0]          \n",
            "__________________________________________________________________________________________________\n",
            "conv2d_56 (Conv2D)              (None, 196, 1, 512)  655872      reshape_10[0][0]                 \n",
            "__________________________________________________________________________________________________\n",
            "conv2d_57 (Conv2D)              (None, 196, 1, 512)  3932672     zero_padding2d_21[0][0]          \n",
            "__________________________________________________________________________________________________\n",
            "conv2d_58 (Conv2D)              (None, 200, 1, 512)  131584      reshape_10[0][0]                 \n",
            "__________________________________________________________________________________________________\n",
            "conv2d_59 (Conv2D)              (None, 199, 1, 512)  262656      reshape_10[0][0]                 \n",
            "__________________________________________________________________________________________________\n",
            "max_pooling2d_49 (MaxPooling2D) (None, 1, 1, 512)    0           conv2d_52[0][0]                  \n",
            "__________________________________________________________________________________________________\n",
            "max_pooling2d_50 (MaxPooling2D) (None, 1, 1, 512)    0           conv2d_53[0][0]                  \n",
            "__________________________________________________________________________________________________\n",
            "max_pooling2d_51 (MaxPooling2D) (None, 1, 1, 512)    0           conv2d_54[0][0]                  \n",
            "__________________________________________________________________________________________________\n",
            "max_pooling2d_52 (MaxPooling2D) (None, 1, 1, 512)    0           conv2d_55[0][0]                  \n",
            "__________________________________________________________________________________________________\n",
            "max_pooling2d_53 (MaxPooling2D) (None, 1, 1, 512)    0           conv2d_56[0][0]                  \n",
            "__________________________________________________________________________________________________\n",
            "max_pooling2d_54 (MaxPooling2D) (None, 1, 1, 512)    0           conv2d_57[0][0]                  \n",
            "__________________________________________________________________________________________________\n",
            "max_pooling2d_55 (MaxPooling2D) (None, 1, 1, 512)    0           conv2d_58[0][0]                  \n",
            "__________________________________________________________________________________________________\n",
            "max_pooling2d_56 (MaxPooling2D) (None, 1, 1, 512)    0           conv2d_59[0][0]                  \n",
            "__________________________________________________________________________________________________\n",
            "concatenate_7 (Concatenate)     (None, 1, 1, 4096)   0           max_pooling2d_49[0][0]           \n",
            "                                                                 max_pooling2d_50[0][0]           \n",
            "                                                                 max_pooling2d_51[0][0]           \n",
            "                                                                 max_pooling2d_52[0][0]           \n",
            "                                                                 max_pooling2d_53[0][0]           \n",
            "                                                                 max_pooling2d_54[0][0]           \n",
            "                                                                 max_pooling2d_55[0][0]           \n",
            "                                                                 max_pooling2d_56[0][0]           \n",
            "__________________________________________________________________________________________________\n",
            "flatten_7 (Flatten)             (None, 4096)         0           concatenate_7[0][0]              \n",
            "__________________________________________________________________________________________________\n",
            "dense_9 (Dense)                 (None, 64)           262208      flatten_7[0][0]                  \n",
            "__________________________________________________________________________________________________\n",
            "batch_normalization_3 (BatchNor (None, 64)           256         dense_9[0][0]                    \n",
            "__________________________________________________________________________________________________\n",
            "dropout_7 (Dropout)             (None, 64)           0           batch_normalization_3[0][0]      \n",
            "__________________________________________________________________________________________________\n",
            "dense_10 (Dense)                (None, 7)            455         dropout_7[0][0]                  \n",
            "==================================================================================================\n",
            "Total params: 28,447,239\n",
            "Trainable params: 28,447,111\n",
            "Non-trainable params: 128\n",
            "__________________________________________________________________________________________________\n",
            "Train on 1102 samples, validate on 123 samples\n",
            "Epoch 1/15\n",
            "1102/1102 [==============================] - 15s 14ms/step - loss: 1.1465 - acc: 0.6334 - val_loss: 6.5010 - val_acc: 0.0000e+00\n",
            "\n",
            "Epoch 00001: val_acc improved from -inf to 0.00000, saving model to ./millionlive_idol_predictor/tmp/weights.01-1.15-0.63-6.50-0.00.hdf5\n",
            "Epoch 2/15\n",
            "1102/1102 [==============================] - 12s 11ms/step - loss: 0.5383 - acc: 0.8530 - val_loss: 2.3029 - val_acc: 0.0325\n",
            "\n",
            "Epoch 00002: val_acc improved from 0.00000 to 0.03252, saving model to ./millionlive_idol_predictor/tmp/weights.02-0.54-0.85-2.30-0.03.hdf5\n",
            "Epoch 3/15\n",
            "1102/1102 [==============================] - 12s 11ms/step - loss: 0.3364 - acc: 0.9383 - val_loss: 3.9079 - val_acc: 0.0000e+00\n",
            "\n",
            "Epoch 00003: val_acc did not improve from 0.03252\n",
            "Epoch 4/15\n",
            "1102/1102 [==============================] - 12s 11ms/step - loss: 0.2407 - acc: 0.9682 - val_loss: 3.1189 - val_acc: 0.0325\n",
            "\n",
            "Epoch 00004: val_acc improved from 0.03252 to 0.03252, saving model to ./millionlive_idol_predictor/tmp/weights.04-0.24-0.97-3.12-0.03.hdf5\n",
            "Epoch 5/15\n",
            "1102/1102 [==============================] - 12s 11ms/step - loss: 0.1938 - acc: 0.9891 - val_loss: 1.4914 - val_acc: 0.3984\n",
            "\n",
            "Epoch 00005: val_acc improved from 0.03252 to 0.39837, saving model to ./millionlive_idol_predictor/tmp/weights.05-0.19-0.99-1.49-0.40.hdf5\n",
            "Epoch 6/15\n",
            "1102/1102 [==============================] - 12s 11ms/step - loss: 0.1680 - acc: 0.9927 - val_loss: 1.1898 - val_acc: 0.5366\n",
            "\n",
            "Epoch 00006: val_acc improved from 0.39837 to 0.53659, saving model to ./millionlive_idol_predictor/tmp/weights.06-0.17-0.99-1.19-0.54.hdf5\n",
            "Epoch 7/15\n",
            "1102/1102 [==============================] - 12s 11ms/step - loss: 0.1485 - acc: 0.9964 - val_loss: 1.2144 - val_acc: 0.5285\n",
            "\n",
            "Epoch 00007: val_acc did not improve from 0.53659\n",
            "Epoch 8/15\n",
            "1102/1102 [==============================] - 12s 11ms/step - loss: 0.1347 - acc: 0.9936 - val_loss: 0.3472 - val_acc: 0.9268\n",
            "\n",
            "Epoch 00008: val_acc improved from 0.53659 to 0.92683, saving model to ./millionlive_idol_predictor/tmp/weights.08-0.13-0.99-0.35-0.93.hdf5\n",
            "Epoch 9/15\n",
            "1102/1102 [==============================] - 12s 11ms/step - loss: 0.1469 - acc: 0.9909 - val_loss: 0.5459 - val_acc: 0.8211\n",
            "\n",
            "Epoch 00009: val_acc did not improve from 0.92683\n",
            "Epoch 10/15\n",
            "1102/1102 [==============================] - 12s 11ms/step - loss: 0.1543 - acc: 0.9955 - val_loss: 0.5666 - val_acc: 0.8455\n",
            "\n",
            "Epoch 00010: val_acc did not improve from 0.92683\n",
            "Epoch 11/15\n",
            "1102/1102 [==============================] - 12s 11ms/step - loss: 0.1313 - acc: 0.9927 - val_loss: 0.8461 - val_acc: 0.7073\n",
            "\n",
            "Epoch 00011: val_acc did not improve from 0.92683\n",
            "Epoch 12/15\n",
            "1102/1102 [==============================] - 12s 11ms/step - loss: 0.1214 - acc: 0.9973 - val_loss: 1.2138 - val_acc: 0.5447\n",
            "\n",
            "Epoch 00012: val_acc did not improve from 0.92683\n",
            "Epoch 13/15\n",
            "1102/1102 [==============================] - 12s 11ms/step - loss: 0.1203 - acc: 0.9946 - val_loss: 1.3020 - val_acc: 0.4797\n",
            "\n",
            "Epoch 00013: val_acc did not improve from 0.92683\n",
            "Epoch 14/15\n",
            "1102/1102 [==============================] - 12s 11ms/step - loss: 0.1206 - acc: 0.9936 - val_loss: 1.1198 - val_acc: 0.5285\n",
            "\n",
            "Epoch 00014: val_acc did not improve from 0.92683\n",
            "Epoch 15/15\n",
            "1102/1102 [==============================] - 12s 11ms/step - loss: 0.1087 - acc: 0.9964 - val_loss: 1.0934 - val_acc: 0.5528\n",
            "\n",
            "Epoch 00015: val_acc did not improve from 0.92683\n"
          ],
          "name": "stdout"
        },
        {
          "output_type": "display_data",
          "data": {
            "text/plain": [
              "'Model Acc'"
            ]
          },
          "metadata": {
            "tags": []
          }
        },
        {
          "output_type": "display_data",
          "data": {
            "image/png": "[encoded data removed]",
            "text/plain": [
              "<matplotlib.figure.Figure at 0x7f0ea7746e10>"
            ]
          },
          "metadata": {
            "tags": []
          }
        },
        {
          "output_type": "display_data",
          "data": {
            "text/plain": [
              "'Model Loss'"
            ]
          },
          "metadata": {
            "tags": []
          }
        },
        {
          "output_type": "display_data",
          "data": {
            "image/png": "[encoded data removed]",
            "text/plain": [
              "<matplotlib.figure.Figure at 0x7f0ea7533da0>"
            ]
          },
          "metadata": {
            "tags": []
          }
        }
      ]
    },
    {
      "metadata": {
        "id": "kfVAWbrUrX8x",
        "colab_type": "text"
      },
      "cell_type": "markdown",
      "source": [
        "# 推論"
      ]
    },
    {
      "metadata": {
        "id": "sg44cWKIoiKA",
        "colab_type": "code",
        "colab": {}
      },
      "cell_type": "code",
      "source": [
        "def encode_pred_text(raw_txt):\n",
        "    txt = [ord(x) for x in str(raw_txt).strip().replace('　','')]\n",
        "    txt = txt[:200]\n",
        "    if len(txt) < 200:\n",
        "        txt += ([0] * (200 - len(txt)))\n",
        "    return txt"
      ],
      "execution_count": 0,
      "outputs": []
    },
    {
      "metadata": {
        "id": "cgY21bT3osNG",
        "colab_type": "code",
        "colab": {
          "base_uri": "https://localhost:8080/",
          "height": 136
        },
        "outputId": "50284e2e-8cc2-45fa-d83f-b5e7d4b79da6"
      },
      "cell_type": "code",
      "source": [
        "idols = load_json()\n",
        "model = load_model('./millionlive_idol_predictor/tmp/weights.08-0.13-0.99-0.35-0.93.hdf5')"
      ],
      "execution_count": 81,
      "outputs": [
        {
          "output_type": "stream",
          "text": [
            "karen\tid: 0\tidol_name: 篠宮可憐\n",
            "emily\tid: 1\tidol_name: エミリー・スチュアート\n",
            "shiho\tid: 2\tidol_name: 北沢志保\n",
            "mizuki\tid: 3\tidol_name: 真壁瑞希\n",
            "matsuri\tid: 4\tidol_name: 徳川まつり\n",
            "nao\tid: 5\tidol_name: 横山奈緒\n",
            "serika\tid: 6\tidol_name: 箱崎星梨花\n"
          ],
          "name": "stdout"
        }
      ]
    },
    {
      "metadata": {
        "id": "R7_EgclOqwZg",
        "colab_type": "code",
        "colab": {
          "base_uri": "https://localhost:8080/",
          "height": 153
        },
        "outputId": "ce5e9e0d-7f27-41f7-fbfd-21569a066dd7"
      },
      "cell_type": "code",
      "source": [
        "_txt = encode_pred_text(input())\n",
        "result = model.predict(np.array([_txt]))\n",
        "predict_results = result[0,:]\n",
        "sorted_results = sorted([(i,e) for i,e in enumerate(list(predict_results))], key=lambda x:x[1]*-1)\n",
        "#print(sorted_results)\n",
        "for result in sorted_results:\n",
        "    id, prob = result\n",
        "    if float(prob)*100 == 0: \n",
        "      prob += .01\n",
        "    print('{}\\t: {}%'.format(idols[id]['idol_name'], round(float(prob)*100, 2)))"
      ],
      "execution_count": 97,
      "outputs": [
        {
          "output_type": "stream",
          "text": [
            "おめでとうございます！プロデューサーさんも、高木社長にいっぱい褒めてもらえるといいですね♪\t\n",
            "箱崎星梨花\t: 84.93%\n",
            "北沢志保\t: 6.81%\n",
            "真壁瑞希\t: 3.69%\n",
            "徳川まつり\t: 2.12%\n",
            "エミリー・スチュアート\t: 0.88%\n",
            "篠宮可憐\t: 0.82%\n",
            "横山奈緒\t: 0.75%\n"
          ],
          "name": "stdout"
        }
      ]
    }
  ]
}